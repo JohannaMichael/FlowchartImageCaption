{
 "cells": [
  {
   "cell_type": "code",
   "execution_count": 5,
   "metadata": {},
   "outputs": [],
   "source": [
    "from pickle import load\n",
    "import numpy as np\n",
    "from keras.preprocessing.sequence import pad_sequences\n",
    "import matplotlib.pyplot as plt\n",
    "from keras.models import load_model"
   ]
  },
  {
   "cell_type": "code",
   "execution_count": 6,
   "metadata": {
    "pycharm": {
     "name": "#%%\n"
    }
   },
   "outputs": [],
   "source": [
    "max_length = 124\n",
    "model = load_model('./image_caption_model.h5')\n",
    "\n",
    "images = './FlowchartData/Images/'\n",
    "\n",
    "final_code_sentences = []\n",
    "\n",
    "with open(\"./pickle/encoded_test_images.pkl\", \"rb\") as encoded_pickle:\n",
    "    encoding_test = load(encoded_pickle)\n",
    "\n",
    "with open(\"./pickle/wordtoix.pkl\", \"rb\") as encoded_pickle:\n",
    "    wordtoix = load(encoded_pickle)\n",
    "\n",
    "with open(\"./pickle/ixtoword.pkl\", \"rb\") as encoded_pickle:\n",
    "    ixtoword = load(encoded_pickle)"
   ]
  },
  {
   "cell_type": "code",
   "execution_count": 7,
   "metadata": {
    "pycharm": {
     "name": "#%%\n"
    }
   },
   "outputs": [],
   "source": [
    "# predict next token and select the one with highest probability\n",
    "def greedy_search(photo):\n",
    "    in_text = 'startseq'\n",
    "    for i in range(max_length):\n",
    "        sequence = [wordtoix[w] for w in in_text.split() if w in wordtoix]\n",
    "        sequence = pad_sequences([sequence], maxlen=max_length)\n",
    "        yhat = model.predict([photo, sequence], verbose=0)\n",
    "        yhat = np.argmax(yhat)\n",
    "        word = ixtoword[yhat]\n",
    "        in_text += ' ' + word\n",
    "        if word == 'endseq':\n",
    "            break\n",
    "    final = in_text.split()\n",
    "    final = final[1:-1]\n",
    "    final = ' '.join(final)\n",
    "    return final\n",
    "\n",
    "\n",
    "def insert_new_line(text):\n",
    "    with_nl = text.split('\\\\n')\n",
    "    return with_nl\n",
    "\n",
    "\n",
    "def load_test_descriptions(filename):\n",
    "    file = open(filename, 'r')\n",
    "    text = file.read()\n",
    "    file.close()\n",
    "    references = []\n",
    "    pic_ids = []\n",
    "    for testingImg in range(2):\n",
    "        pic_name = list(encoding_test.keys())[testingImg]\n",
    "        pic_tokens = pic_name.split('.')\n",
    "        pic_id = pic_tokens[0]\n",
    "        pic_ids.append(pic_id)\n",
    "\n",
    "    for id in pic_ids:\n",
    "        for line in text.split('\\n'):\n",
    "            tokens = line.split()\n",
    "            image_id, image_desc = tokens[0], tokens[1:]\n",
    "            if image_id == id:\n",
    "                references.append(image_desc)\n",
    "    return references"
   ]
  },
  {
   "cell_type": "code",
   "execution_count": 8,
   "metadata": {
    "pycharm": {
     "name": "#%%\n"
    },
    "scrolled": false
   },
   "outputs": [
    {
     "name": "stdout",
     "output_type": "stream",
     "text": [
      "Image Name: flowchartTest1.jpg\n"
     ]
    },
    {
     "data": {
      "image/png": "[encoded data removed]",
      "text/plain": [
       "<Figure size 432x288 with 1 Axes>"
      ]
     },
     "metadata": {
      "needs_background": "light"
     },
     "output_type": "display_data"
    },
    {
     "name": "stdout",
     "output_type": "stream",
     "text": [
      "Greedy: 0  terminal start ; \\n process ; \\n if ( condition ) { \\n process ; \\n } else { \\n process ; \\n } \\n } \\n terminal end ; \\n\n",
      "-----------------------\n",
      "terminal start ; \n",
      " process ; \n",
      " if ( condition ) { \n",
      " process ; \n",
      " } else { \n",
      " process ; \n",
      " } \n",
      " } \n",
      " terminal end ; \n",
      "\n",
      "-----------------------\n",
      "Image Name: flowchartTest2.jpg\n"
     ]
    },
    {
     "data": {
      "image/png": "[encoded data removed]",
      "text/plain": [
       "<Figure size 432x288 with 1 Axes>"
      ]
     },
     "metadata": {
      "needs_background": "light"
     },
     "output_type": "display_data"
    },
    {
     "name": "stdout",
     "output_type": "stream",
     "text": [
      "Greedy: 1  terminal start ; \\n process ; \\n if ( condition ) { \\n process ; \\n } else { \\n process ; \\n } \\n } \\n terminal end ; \\n\n",
      "-----------------------\n",
      "terminal start ; \n",
      " process ; \n",
      " if ( condition ) { \n",
      " process ; \n",
      " } else { \n",
      " process ; \n",
      " } \n",
      " } \n",
      " terminal end ; \n",
      "\n",
      "-----------------------\n"
     ]
    }
   ],
   "source": [
    "for testImg in range(2):\n",
    "    pic = list(encoding_test.keys())[testImg]\n",
    "    image = encoding_test[pic].reshape((1, 2048))\n",
    "    x = plt.imread(images + pic)\n",
    "    print(\"Image Name: \" + pic)\n",
    "    plt.imshow(x)\n",
    "    plt.show()\n",
    "    final_text = greedy_search(image)\n",
    "    print(\"Greedy: \" + str(testImg) + \" \", final_text)\n",
    "    final_code_sentences.append(final_text.split())\n",
    "    print('-----------------------')\n",
    "    print('\\n'.join(insert_new_line(final_text)))\n",
    "    print('-----------------------')\n"
   ]
  },
  {
   "cell_type": "code",
   "execution_count": null,
   "metadata": {
    "pycharm": {
     "name": "#%%\n"
    }
   },
   "outputs": [],
   "source": []
  }
 ],
 "metadata": {
  "kernelspec": {
   "display_name": "Python 3",
   "language": "python",
   "name": "python3"
  },
  "language_info": {
   "codemirror_mode": {
    "name": "ipython",
    "version": 3
   },
   "file_extension": ".py",
   "mimetype": "text/x-python",
   "name": "python",
   "nbconvert_exporter": "python",
   "pygments_lexer": "ipython3",
   "version": "3.7.7"
  }
 },
 "nbformat": 4,
 "nbformat_minor": 1
}